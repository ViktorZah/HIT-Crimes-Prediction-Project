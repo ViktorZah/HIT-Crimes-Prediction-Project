{
 "cells": [
  {
   "cell_type": "code",
   "execution_count": null,
   "metadata": {
    "collapsed": true
   },
   "outputs": [],
   "source": [
    "import pandas as pd\n",
    "import dataclasses\n",
    "from tqdm import tqdm\n",
    "from selenium import webdriver\n",
    "import time\n",
    "from selenium.webdriver.common.by import By\n",
    "from selenium.webdriver.chrome.options import Options\n",
    "import re\n",
    "import matplotlib.pyplot as plt\n",
    "import seaborn as sns\n",
    "from sklearn.model_selection import train_test_split\n",
    "from sklearn.tree import DecisionTreeClassifier, export_graphviz\n",
    "from sklearn.linear_model import LogisticRegression, LinearRegression\n",
    "from sklearn.neighbors import KNeighborsClassifier\n",
    "from sklearn.metrics import accuracy_score, mean_squared_error, r2_score, confusion_matrix\n",
    "import graphviz\n",
    "from sklearn.model_selection import GridSearchCV\n",
    "import numpy as np\n",
    "import requests\n",
    "from geopy.geocoders import Nominatim\n",
    "import geocoder\n",
    "import dataclasses\n",
    "from tqdm import tqdm\n",
    "import os\n",
    "from selenium import webdriver\n",
    "import time\n",
    "from selenium.webdriver.common.by import By\n",
    "import matplotlib as mat\n",
    "import matplotlib.cm as cm\n",
    "import numpy as np\n",
    "from datetime import datetime\n",
    "from collections import Counter\n",
    "%matplotlib inline"
   ]
  },
  {
   "cell_type": "code",
   "execution_count": null,
   "outputs": [],
   "source": [
    "class Row:\n",
    "    _id: str\n",
    "    case_number: str\n",
    "    date: str\n",
    "    block: str\n",
    "    IUSR: str\n",
    "    primary_type: str\n",
    "    description: str\n",
    "    location_description: str\n",
    "    arrest: str\n",
    "    domestic: str\n",
    "    beat: str\n",
    "    district: str\n",
    "    ward: str\n",
    "    community_area: str\n",
    "    fbi_code: str\n",
    "    x_coordinate: str\n",
    "    y_coordinate: str\n",
    "    year: str\n",
    "    updated_on: str\n",
    "    latitude: str\n",
    "    longitude: str\n",
    "\n",
    "    def location(self) -> (str, str):\n",
    "        return self.longitude, self.latitude\n",
    "\n",
    "    def to_dict(self):\n",
    "        return {\n",
    "       '_id': self._id,\n",
    "       'case_number': self.case_number,\n",
    "       'date': self.date,\n",
    "       'block': self.block,\n",
    "       'IUSR': self.IUSR,\n",
    "       'primary_type': self.primary_type,\n",
    "       'description': self.description,\n",
    "       'location_description': self.location_description,\n",
    "       'arrest': self.arrest,\n",
    "       'domestic': self.domestic,\n",
    "       'beat': self.beat,\n",
    "       'district': self.district,\n",
    "       'ward': self.ward,\n",
    "       'community_area': self.community_area,\n",
    "       'fbi_code': self.fbi_code,\n",
    "       'x_coordinate': self.x_coordinate,\n",
    "       'y_coordinate': self.y_coordinate,\n",
    "       'year': self.year,\n",
    "       'updated_on': self.updated_on,\n",
    "       'latitude': self.latitude,\n",
    "       'longitude': self.longitude,\n",
    "       'location': self.location\n",
    "        }\n",
    "\n",
    "website = 'https://data.cityofchicago.org/Public-Safety/Crimes-2001-to-present-Dashboard/5cd6-ry5g'\n",
    "path = '\\Desktop'\n",
    "\n",
    "options = Options()\n",
    "options.add_argument(\"user-agent=Mozilla/5.0 (Windows NT 10.0; Win64; x64) AppleWebKit/537.36 (KHTML, like Gecko) Chrome/96.0.4664.93 Safari/537.36\")\n",
    "driver = webdriver.Chrome(options=options)\n",
    "driver.get(website)\n",
    "time.sleep(10)\n",
    "driver.execute_script(\"window.scrollTo(0, document.body.scrollHeight);\")\n",
    "time.sleep(1)\n",
    "cell_counter = 0\n",
    "attrs = []\n",
    "rows = []\n",
    "\n",
    "the_table = driver.find_element(By.CLASS_NAME, 'table-body')\n",
    "driver.execute_script(\"arguments[0].scrollTop = arguments[0].scrollHeight\", the_table)\n",
    "scroll_increment = 20000\n",
    "for _ in range(5):\n",
    "    scroll_script = f\"arguments[0].scrollTop += {scroll_increment};\"\n",
    "    driver.execute_script(scroll_script, the_table)\n",
    "    time.sleep(5)  # Wait for the new data to load\n",
    "\n",
    "# Get the total number of elements      #div table-body\n",
    "total_elements = len(driver.find_elements(By.CLASS_NAME, 'cell-content'))\n",
    "time.sleep(60)\n",
    "# Initialize tqdm progress bar\n",
    "pbar = tqdm(total=total_elements, desc='Progress', unit='col')\n",
    "\n",
    "for content in driver.find_elements(By.CLASS_NAME, 'cell-content'):\n",
    "    try:\n",
    "        content = content.text\n",
    "        attrs.append(content)\n",
    "        cell_counter += 1\n",
    "\n",
    "        if cell_counter > 21:\n",
    "            attrs.pop()\n",
    "            rows.append(Row(*attrs))\n",
    "            attrs = []\n",
    "            cell_counter = 0\n",
    "\n",
    "        # Update the progress bar\n",
    "        pbar.update(1)\n",
    "    except:\n",
    "        continue\n",
    "\n",
    "# Close the progress bar\n",
    "pbar.close()\n",
    "\n",
    "for row in rows:\n",
    "    print(row)\n",
    "\n",
    "df = pd.DataFrame([obj.to_dict() for obj in rows])\n",
    "df.to_csv('testingData.csv')\n",
    "driver.quit()"
   ],
   "metadata": {
    "collapsed": false
   }
  },
  {
   "cell_type": "code",
   "execution_count": null,
   "outputs": [],
   "source": [],
   "metadata": {
    "collapsed": false
   }
  },
  {
   "cell_type": "code",
   "execution_count": null,
   "outputs": [],
   "source": [],
   "metadata": {
    "collapsed": false
   }
  },
  {
   "cell_type": "code",
   "execution_count": null,
   "outputs": [],
   "source": [],
   "metadata": {
    "collapsed": false
   }
  },
  {
   "cell_type": "code",
   "execution_count": null,
   "outputs": [],
   "source": [],
   "metadata": {
    "collapsed": false
   }
  },
  {
   "cell_type": "code",
   "execution_count": null,
   "outputs": [],
   "source": [],
   "metadata": {
    "collapsed": false
   }
  },
  {
   "cell_type": "code",
   "execution_count": null,
   "outputs": [],
   "source": [],
   "metadata": {
    "collapsed": false
   }
  }
 ],
 "metadata": {
  "kernelspec": {
   "display_name": "Python 3",
   "language": "python",
   "name": "python3"
  },
  "language_info": {
   "codemirror_mode": {
    "name": "ipython",
    "version": 2
   },
   "file_extension": ".py",
   "mimetype": "text/x-python",
   "name": "python",
   "nbconvert_exporter": "python",
   "pygments_lexer": "ipython2",
   "version": "2.7.6"
  }
 },
 "nbformat": 4,
 "nbformat_minor": 0
}
